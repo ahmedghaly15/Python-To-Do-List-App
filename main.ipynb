{
 "cells": [
  {
   "cell_type": "code",
   "execution_count": 1,
   "metadata": {},
   "outputs": [],
   "source": [
    "import tkinter\n",
    "\n",
    "from tkinter import *"
   ]
  },
  {
   "cell_type": "code",
   "execution_count": 2,
   "metadata": {},
   "outputs": [],
   "source": [
    "root = Tk()"
   ]
  },
  {
   "cell_type": "code",
   "execution_count": 3,
   "metadata": {},
   "outputs": [
    {
     "data": {
      "text/plain": [
       "''"
      ]
     },
     "execution_count": 3,
     "metadata": {},
     "output_type": "execute_result"
    }
   ],
   "source": [
    "root.title(\"To-Do-List\")  # The title of the app window\n",
    "\n",
    "# dimensions of the app window (400 => width , 650 height)\n",
    "root.geometry(\"400x650+400+100\")\n",
    "root.resizable(False, False)  # Cancel making the window resizable"
   ]
  },
  {
   "attachments": {},
   "cell_type": "markdown",
   "metadata": {},
   "source": [
    "## Icons"
   ]
  },
  {
   "cell_type": "code",
   "execution_count": 4,
   "metadata": {},
   "outputs": [],
   "source": [
    "# Icon\n",
    "imageIcon = PhotoImage(file=\"images/task.png\")\n",
    "root.iconphoto = (False, imageIcon)\n",
    "\n",
    "# Tob Bar\n",
    "topBar = PhotoImage(file=\"images/topbar.png\")\n",
    "Label(root, image=topBar).pack()\n",
    "\n",
    "# Dock \n",
    "dockImage = PhotoImage(file= \"images/dock.png\")\n",
    "Label(root, image= dockImage, bg=\"#32405b\").place(x = 30, y = 25)\n",
    "\n",
    "# Note\n",
    "noteImage = PhotoImage(file= \"images/task.png\")\n",
    "Label(root, image= noteImage, bg=\"#32405b\").place(x = 340, y = 25)"
   ]
  },
  {
   "attachments": {},
   "cell_type": "markdown",
   "metadata": {},
   "source": [
    "## Heading"
   ]
  },
  {
   "cell_type": "code",
   "execution_count": 5,
   "metadata": {},
   "outputs": [],
   "source": [
    "heading = Label(root, text=\"ALL TASKS\", font=\"arial 20 bold\", fg=\"white\", bg=\"#32405b\")\n",
    "heading.place(x = 115, y=20)"
   ]
  },
  {
   "attachments": {},
   "cell_type": "markdown",
   "metadata": {},
   "source": [
    "## ListBox of Tasks"
   ]
  },
  {
   "cell_type": "code",
   "execution_count": 6,
   "metadata": {},
   "outputs": [],
   "source": [
    "list_frame = Frame(root, bd=3, width=700, height=280, bg=\"#32405b\")\n",
    "list_frame.pack(pady= (160, 0))\n",
    "\n",
    "listBox = Listbox(list_frame, font=('arial', 12), width=40, height=16, bg=\"#32405b\", fg= \"white\", cursor=\"hand2\", selectbackground=\"#5a95ff\")\n",
    "listBox.pack(side=LEFT, fill=BOTH, padx=2)"
   ]
  },
  {
   "attachments": {},
   "cell_type": "markdown",
   "metadata": {},
   "source": [
    "## Scrollbar"
   ]
  },
  {
   "cell_type": "code",
   "execution_count": 7,
   "metadata": {},
   "outputs": [],
   "source": [
    "scrollbar = Scrollbar(list_frame)\n",
    "scrollbar.pack(side=RIGHT, fill=BOTH)\n",
    "\n",
    "listBox.config(yscrollcommand= scrollbar.set)\n",
    "scrollbar.config(command=listBox.yview)"
   ]
  },
  {
   "attachments": {},
   "cell_type": "markdown",
   "metadata": {},
   "source": [
    "## Tasks File"
   ]
  },
  {
   "cell_type": "code",
   "execution_count": 8,
   "metadata": {},
   "outputs": [],
   "source": [
    "task_list = []\n",
    "\n",
    "def openTasksFile():\n",
    "    try:\n",
    "        global task_list\n",
    "        with open(\"tasksList.txt\", \"r\") as tasksFile:\n",
    "            tasks = tasksFile.readlines()\n",
    "        \n",
    "        for task in tasks:\n",
    "            if task != '\\n':\n",
    "                task_list.append(task)\n",
    "                listBox.insert(END, task)\n",
    "\n",
    "    except:\n",
    "        file = open(\"tasksList.txt\", \"w\")\n",
    "        file.close()\n",
    "\n",
    "openTasksFile()"
   ]
  },
  {
   "attachments": {},
   "cell_type": "markdown",
   "metadata": {},
   "source": [
    "## Enter a Task"
   ]
  },
  {
   "cell_type": "code",
   "execution_count": 9,
   "metadata": {},
   "outputs": [],
   "source": [
    "frame = Frame(root, width=400, height=40, bg = \"white\")\n",
    "frame.place(x = 0, y=180)\n",
    "\n",
    "task = StringVar()\n",
    "task_entry = Entry(frame, width=18, font=\"arial 18\", bd=0)\n",
    "task_entry.place(x = 10, y = 7)\n",
    "task_entry.focus()"
   ]
  },
  {
   "attachments": {},
   "cell_type": "markdown",
   "metadata": {},
   "source": [
    "## Add Task Logic"
   ]
  },
  {
   "cell_type": "code",
   "execution_count": 10,
   "metadata": {},
   "outputs": [],
   "source": [
    "def addTask() :\n",
    "    task = task_entry.get()\n",
    "    task_entry.delete(0, END)\n",
    "\n",
    "    if task:\n",
    "        with open(\"tasksList.txt\", \"a\") as tasksFile:\n",
    "            tasksFile.write(f\"\\n{task}\")\n",
    "        task_list.append(task)\n",
    "        listBox.insert(END, task)"
   ]
  },
  {
   "attachments": {},
   "cell_type": "markdown",
   "metadata": {},
   "source": [
    "## Add a Task"
   ]
  },
  {
   "cell_type": "code",
   "execution_count": 11,
   "metadata": {},
   "outputs": [],
   "source": [
    "button = Button(frame, text= \"ADD\", font=\"arial 16 bold\", width= 8, bg=\"#5a95ff\", fg=\"#fff\", bd=0, command= addTask)\n",
    "button.place(x = 300, y = 0)"
   ]
  },
  {
   "attachments": {},
   "cell_type": "markdown",
   "metadata": {},
   "source": [
    "# Delete Task Logic"
   ]
  },
  {
   "cell_type": "code",
   "execution_count": 12,
   "metadata": {},
   "outputs": [],
   "source": [
    "def deleteTask():\n",
    "    global task_list\n",
    "    \n",
    "    task = str(listBox.get(ANCHOR)) # Get tasks from listBox\n",
    "    if task in task_list:\n",
    "        task_list.remove(task)\n",
    "        with open(\"tasksList.txt\", \"w\") as tasksFile:\n",
    "            for task in task_list:\n",
    "                tasksFile.write(task + \"\\n\")\n",
    "\n",
    "        listBox.delete(ANCHOR)"
   ]
  },
  {
   "attachments": {},
   "cell_type": "markdown",
   "metadata": {},
   "source": [
    "## Delete a Task"
   ]
  },
  {
   "cell_type": "code",
   "execution_count": 13,
   "metadata": {},
   "outputs": [],
   "source": [
    "# Delete icon\n",
    "deleteIcon = PhotoImage(file=\"images/delete.png\")\n",
    "\n",
    "# Delete Button\n",
    "Button(root, image=deleteIcon, bd=0, command= deleteTask).pack(side=BOTTOM, pady=13)"
   ]
  },
  {
   "cell_type": "code",
   "execution_count": 14,
   "metadata": {},
   "outputs": [],
   "source": [
    "root.mainloop()"
   ]
  }
 ],
 "metadata": {
  "kernelspec": {
   "display_name": "Python 3",
   "language": "python",
   "name": "python3"
  },
  "language_info": {
   "codemirror_mode": {
    "name": "ipython",
    "version": 3
   },
   "file_extension": ".py",
   "mimetype": "text/x-python",
   "name": "python",
   "nbconvert_exporter": "python",
   "pygments_lexer": "ipython3",
   "version": "3.9.10"
  },
  "orig_nbformat": 4
 },
 "nbformat": 4,
 "nbformat_minor": 2
}
